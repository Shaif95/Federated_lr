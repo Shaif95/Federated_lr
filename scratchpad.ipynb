{
 "cells": [
  {
   "cell_type": "code",
   "execution_count": 19,
   "id": "58c3787a",
   "metadata": {},
   "outputs": [],
   "source": [
    "# Load CIFAR-10 dataset\n",
    "import tensorflow as tf\n",
    "(x_train, y_train), (x_test, y_test) = tf.keras.datasets.cifar10.load_data()"
   ]
  },
  {
   "cell_type": "code",
   "execution_count": 20,
   "id": "55e446b1",
   "metadata": {},
   "outputs": [],
   "source": [
    "# Assume class 0 is the minority class\n",
    "import numpy as np\n",
    "minority_class_label = 0\n",
    "minority_indices_train = np.where(y_train == minority_class_label)[0]\n",
    "num_indices_to_keep=len(minority_indices_train) // 2\n",
    "indices_to_keep_train = minority_indices_train[:num_indices_to_keep]\n",
    "# Remove indices corresponding to minority class label from y_train\n",
    "y_train_filtered = np.delete(y_train, indices_to_keep_train, axis=0)\n",
    "x_train_filtered = np.delete(x_train, indices_to_keep_train, axis=0)"
   ]
  },
  {
   "cell_type": "code",
   "execution_count": 21,
   "id": "4ef4a682",
   "metadata": {},
   "outputs": [],
   "source": [
    "minority_indices_train = np.where(y_test == minority_class_label)[0]\n",
    "num_indices_to_keep=len(minority_indices_train) // 2\n",
    "indices_to_keep_train = minority_indices_train[:num_indices_to_keep]\n",
    "# Remove indices corresponding to minority class label from y_train\n",
    "y_train_filtered = np.delete(y_test, indices_to_keep_train, axis=0)\n",
    "x_train_filtered = np.delete(x_test, indices_to_keep_train, axis=0)"
   ]
  },
  {
   "cell_type": "code",
   "execution_count": 9,
   "id": "af3d9545",
   "metadata": {},
   "outputs": [
    {
     "data": {
      "text/plain": [
       "array([   29,    30,    35, ..., 25070, 25082, 25083], dtype=int64)"
      ]
     },
     "execution_count": 9,
     "metadata": {},
     "output_type": "execute_result"
    }
   ],
   "source": []
  },
  {
   "cell_type": "code",
   "execution_count": 47,
   "id": "c24dd7ad",
   "metadata": {},
   "outputs": [
    {
     "name": "stdout",
     "output_type": "stream",
     "text": [
      "Epoch 1/10\n",
      "1563/1563 [==============================] - 10s 6ms/step - loss: 1.3865 - accuracy: 0.5115 - f1_score: 4.5475 - val_loss: 1.1717 - val_accuracy: 0.5900 - val_f1_score: 4.4512\n",
      "Epoch 2/10\n",
      "1563/1563 [==============================] - 12s 8ms/step - loss: 1.1077 - accuracy: 0.6094 - f1_score: 4.5235 - val_loss: 1.0542 - val_accuracy: 0.6326 - val_f1_score: 4.6218\n",
      "Epoch 3/10\n",
      "1563/1563 [==============================] - 10s 6ms/step - loss: 0.9884 - accuracy: 0.6517 - f1_score: 4.5235 - val_loss: 0.9961 - val_accuracy: 0.6466 - val_f1_score: 4.5817\n",
      "Epoch 4/10\n",
      "1563/1563 [==============================] - 10s 6ms/step - loss: 0.9032 - accuracy: 0.6797 - f1_score: 4.5138 - val_loss: 0.9655 - val_accuracy: 0.6626 - val_f1_score: 4.5414\n",
      "Epoch 5/10\n",
      "1563/1563 [==============================] - 9s 6ms/step - loss: 0.8366 - accuracy: 0.7048 - f1_score: 4.5075 - val_loss: 0.9659 - val_accuracy: 0.6592 - val_f1_score: 4.5554\n",
      "Epoch 6/10\n",
      "1563/1563 [==============================] - 10s 7ms/step - loss: 0.7835 - accuracy: 0.7234 - f1_score: 4.5078 - val_loss: 0.9318 - val_accuracy: 0.6770 - val_f1_score: 4.5455\n",
      "Epoch 7/10\n",
      "1563/1563 [==============================] - 10s 6ms/step - loss: 0.7306 - accuracy: 0.7414 - f1_score: 4.5073 - val_loss: 0.9362 - val_accuracy: 0.6781 - val_f1_score: 4.5257\n",
      "Epoch 8/10\n",
      "1563/1563 [==============================] - 9s 6ms/step - loss: 0.6924 - accuracy: 0.7547 - f1_score: 4.5093 - val_loss: 0.9340 - val_accuracy: 0.6798 - val_f1_score: 4.4717\n",
      "Epoch 9/10\n",
      "1563/1563 [==============================] - 8s 5ms/step - loss: 0.6537 - accuracy: 0.7677 - f1_score: 4.5052 - val_loss: 0.9598 - val_accuracy: 0.6758 - val_f1_score: 4.6001\n",
      "Epoch 10/10\n",
      "1563/1563 [==============================] - 10s 6ms/step - loss: 0.6200 - accuracy: 0.7801 - f1_score: 4.5029 - val_loss: 0.9782 - val_accuracy: 0.6738 - val_f1_score: 4.5218\n"
     ]
    }
   ],
   "source": [
    "import tensorflow as tf\n",
    "\n",
    "# Define F1 score metric\n",
    "def f1_score(y_true, y_pred):\n",
    "    y_true = tf.cast(y_true, tf.float32)\n",
    "    y_pred = tf.cast(tf.argmax(y_pred, axis=-1), tf.float32)\n",
    "    tp = tf.reduce_sum(y_true * y_pred)\n",
    "    fp = tf.reduce_sum((1 - y_true) * y_pred)\n",
    "    fn = tf.reduce_sum(y_true * (1 - y_pred))\n",
    "    precision = tp / (tp + fp + tf.keras.backend.epsilon())\n",
    "    recall = tp / (tp + fn + tf.keras.backend.epsilon())\n",
    "    f1_score = 2 * precision * recall / (precision + recall + tf.keras.backend.epsilon())\n",
    "    return f1_score\n",
    "\n",
    "# Load CIFAR-10 dataset\n",
    "(x_train, y_train), (x_test, y_test) = tf.keras.datasets.cifar10.load_data()\n",
    "\n",
    "# Preprocess input data\n",
    "x_train = tf.keras.applications.mobilenet_v2.preprocess_input(x_train)\n",
    "x_test = tf.keras.applications.mobilenet_v2.preprocess_input(x_test)\n",
    "\n",
    "# Define the model architecture\n",
    "inputs = tf.keras.Input(shape=(32, 32, 3))\n",
    "x = tf.keras.layers.Conv2D(filters=32, kernel_size=(3, 3), activation=\"relu\")(inputs)\n",
    "x = tf.keras.layers.MaxPooling2D(pool_size=(2, 2))(x)\n",
    "x = tf.keras.layers.Dropout(.5)(x)\n",
    "x = tf.keras.layers.Flatten()(x)\n",
    "x = tf.keras.layers.Dense(128, activation=\"relu\")(x)\n",
    "outputs = tf.keras.layers.Dense(10, activation=\"softmax\")(x)\n",
    "\n",
    "# Create the model\n",
    "model = tf.keras.Model(inputs=inputs, outputs=outputs)\n",
    "\n",
    "# Compile the model with F1 score metric\n",
    "model.compile(optimizer=\"adam\",\n",
    "              loss=\"sparse_categorical_crossentropy\",\n",
    "              metrics=[\"accuracy\", f1_score])\n",
    "\n",
    "# Train the model\n",
    "history = model.fit(x_train, y_train, epochs=10, batch_size=32, validation_data=(x_test, y_test))"
   ]
  },
  {
   "cell_type": "code",
   "execution_count": null,
   "id": "8b1125e8",
   "metadata": {},
   "outputs": [],
   "source": [
    "v = history.history['val_f1_score']"
   ]
  },
  {
   "cell_type": "code",
   "execution_count": 13,
   "id": "52a7c096",
   "metadata": {},
   "outputs": [
    {
     "data": {
      "text/plain": [
       "47500"
      ]
     },
     "execution_count": 13,
     "metadata": {},
     "output_type": "execute_result"
    }
   ],
   "source": []
  },
  {
   "cell_type": "code",
   "execution_count": null,
   "id": "0b42b849",
   "metadata": {},
   "outputs": [
    {
     "name": "stdout",
     "output_type": "stream",
     "text": [
      "Epoch 1/10\n",
      " 678/3125 [=====>........................] - ETA: 19s - loss: 1.7773 - accuracy: 0.3811"
     ]
    }
   ],
   "source": [
    "import tensorflow as tf\n",
    "(x_train, y_train), (x_test, y_test) = tf.keras.datasets.cifar10.load_data()\n",
    "\n",
    "def prelu1(x):\n",
    "    return tf.where(x >= 0, x, 2.0*x)\n",
    "def prelu(x):\n",
    "    return tf.where(x >= 0, x, 0.5*x)\n",
    "\n",
    "def create_model_with_parametric_relu(dropout_rate=0.5, alpha_values=[3.0, 1.0]):\n",
    "    inputs = tf.keras.Input(shape=(32, 32, 3))\n",
    "    x = tf.keras.applications.mobilenet_v2.preprocess_input(inputs)\n",
    "    x = tf.keras.layers.Conv2D(filters=32, kernel_size=(3, 3), activation=\"relu\")(x)\n",
    "    x = tf.keras.layers.MaxPooling2D(pool_size=(2, 2))(x)\n",
    "    x = tf.keras.layers.Flatten()(x)\n",
    "    x = tf.keras.layers.Dropout(dropout_rate)(x)\n",
    "    x = tf.keras.layers.Dense(1000, activation=prelu1)(x)\n",
    "    x = tf.keras.layers.Dense(500, activation=prelu)(x)\n",
    "    x = tf.keras.layers.Dense(100, activation=prelu)(x)\n",
    "    outputs = tf.keras.layers.Dense(10, activation=\"softmax\")(x)\n",
    "    model = tf.keras.Model(inputs=inputs, outputs=outputs)\n",
    "    model.compile(optimizer=\"adam\", loss=\"sparse_categorical_crossentropy\", metrics=[\"accuracy\"])\n",
    "    return model\n",
    "\n",
    "model = create_model_with_parametric_relu()\n",
    "model.fit(x_train, y_train, epochs=10, batch_size=16, validation_data=(x_test, y_test))"
   ]
  },
  {
   "cell_type": "code",
   "execution_count": 55,
   "id": "85639f33",
   "metadata": {},
   "outputs": [
    {
     "name": "stdout",
     "output_type": "stream",
     "text": [
      "Intermediate representation after applying Parametric ReLU:\n",
      "[[-3.09623748e-01  3.65926415e-01 -3.30250442e-01  6.23789549e-01\n",
      "  -1.08102870e+00  2.34093356e+00 -4.61948693e-01 -1.12589061e+00\n",
      "  -1.30840349e+00 -2.56084251e+00 -1.05813372e+00  1.41008341e+00\n",
      "  -4.20403183e-01 -7.92685077e-02 -1.38201416e+00 -5.53634405e-01\n",
      "  -1.07329559e+00 -3.15363079e-01 -3.53681386e-01 -1.04790235e+00\n",
      "  -5.67464173e-01 -4.41738188e-01 -2.16922855e+00 -1.16489100e+00\n",
      "  -2.39455551e-01 -3.90322119e-01 -4.50135991e-02 -1.84005427e+00\n",
      "   1.37504816e+00 -7.66315639e-01  3.26110870e-02 -3.77541333e-01\n",
      "  -1.06517458e+00 -1.92681921e+00 -6.77433133e-01 -8.36783469e-01\n",
      "  -5.76628387e-01 -3.24826717e-01 -1.06180763e+00 -6.30141139e-01\n",
      "  -3.15058708e-01  7.93263912e-01 -6.07709765e-01 -2.50434786e-01\n",
      "   1.18437004e+00  1.55070782e-01 -3.32778245e-01 -7.52352297e-01\n",
      "  -3.01972222e+00 -3.53013843e-01 -7.62959838e-01 -2.95632005e-01\n",
      "  -2.54063725e-01 -2.57728904e-01  2.26394534e-01 -1.31080019e+00\n",
      "  -1.18543124e+00 -1.02034009e+00 -7.23209620e-01 -4.43151891e-01\n",
      "  -1.51855886e+00 -7.64131069e-01 -6.46514475e-01 -8.04846883e-01\n",
      "  -1.62588954e-01 -2.94966340e-01  4.50274944e-01 -4.81823921e+00\n",
      "   6.19930923e-01  4.55913931e-01  9.74589944e-01  3.51550609e-01\n",
      "  -6.87236607e-01  2.16237569e+00  6.63015544e-01 -1.14084172e+00\n",
      "  -2.75525182e-01 -6.49197578e-01 -1.74887367e-02 -6.40104830e-01\n",
      "  -3.19044679e-01  9.84706283e-01 -4.56376696e+00 -8.93401384e-01\n",
      "  -3.61468166e-01 -1.36275351e+00 -7.69327700e-01  1.87754524e+00\n",
      "  -6.78269446e-01  4.21040392e+00 -1.27714705e+00 -1.63963699e+00\n",
      "  -2.40846324e+00 -1.82884008e-01  8.55286956e-01 -6.86928451e-01\n",
      "  -4.51780885e-01  9.92653131e-01 -1.08241844e+00 -2.68195701e+00\n",
      "  -6.15208298e-02 -1.16389871e+00 -1.23885226e+00 -2.20054603e+00\n",
      "   2.97100782e-01  8.23256969e-01  9.06306505e-01 -1.28637028e+00\n",
      "  -1.36012852e+00 -1.03647673e+00  1.66736078e+00  6.26506448e-01\n",
      "   7.14004412e-02  2.58621335e-01 -9.75370407e-03  5.43411136e-01\n",
      "  -7.27520883e-01 -4.95455474e-01 -5.86004496e-01 -4.21173543e-01\n",
      "  -1.23108459e+00 -7.87232637e-01 -4.05588001e-01 -3.68114680e-01\n",
      "  -5.26021123e-01 -3.89540270e-02 -6.78258061e-01 -6.12261653e-01\n",
      "   1.61255494e-01 -2.49750271e-01 -1.16327059e+00  1.26305431e-01\n",
      "  -4.24860626e-01 -6.00376546e-01 -3.83144841e-02 -7.31182456e-01\n",
      "  -2.39903122e-01  9.42136943e-01 -9.51204896e-01  1.85642928e-01\n",
      "   3.69983375e-01  2.02151999e-01 -7.16167212e-01 -1.37515056e+00\n",
      "   3.81160438e-01 -1.02071607e+00 -2.76906371e-01  1.85921490e+00\n",
      "   1.97651833e-02  1.04780543e+00 -6.71148062e-01  2.97804952e-01\n",
      "  -1.29028335e-02 -1.06292880e+00 -9.88533676e-01 -1.04257393e+00\n",
      "  -1.95388806e+00  1.35416412e+00 -1.77485555e-01 -5.67219675e-01\n",
      "   1.03513539e-01  4.92107034e-01 -1.11979377e+00 -4.60962474e-01\n",
      "   1.53826728e-01  1.88108993e+00  1.88001704e+00  1.15837768e-01\n",
      "  -1.08762360e+00  7.32443213e-01 -3.77088046e+00 -4.92646933e+00\n",
      "  -1.33605921e+00 -2.55963016e+00 -5.94781518e-01 -1.13560939e+00\n",
      "   7.00566769e-01 -4.60911274e-01 -3.55189353e-01 -6.00386739e-01\n",
      "   3.61762106e-01  3.50373685e-02 -1.96345299e-01  7.16846585e-02\n",
      "   9.22239721e-02 -5.58862746e-01 -1.92402288e-01  4.41785455e-01\n",
      "   3.54123712e-01 -1.37627721e-01 -3.23820889e-01 -6.56956613e-01\n",
      "  -9.57207203e-01 -1.20366430e+00 -7.09592700e-02 -1.22351491e+00\n",
      "   1.33437002e+00 -1.87300518e-02  2.30635762e+00 -1.08557248e+00\n",
      "  -8.05834949e-01  3.01915035e-02 -1.30353224e+00  3.29163700e-01\n",
      "  -5.62821102e+00  6.56874657e-01  1.02628207e+00 -3.50588292e-01\n",
      "   2.17722058e+00 -2.29392242e+00 -2.93601155e-01 -6.07086301e-01\n",
      "   8.53731483e-02 -6.80448771e-01  8.60534906e-02 -8.10090303e-01\n",
      "   8.38504910e-01  1.04971952e+01 -1.74976230e+00 -6.37929216e-02\n",
      "  -7.67877340e-01 -1.11553001e+00 -8.55643153e-01 -1.34949434e+00\n",
      "  -1.85603988e+00 -1.12135208e+00  1.24534726e+00 -9.24474657e-01\n",
      "   2.23670101e+00 -5.70401430e-01 -3.85526985e-01  6.40939474e-01\n",
      "  -2.07421279e+00  6.60718203e-01  3.67691293e-02 -1.59622073e+00\n",
      "  -1.89125466e+00 -2.00827330e-01 -2.50530028e+00  3.95874643e+00\n",
      "  -5.41948259e-01 -1.68750381e+00 -1.19154811e+00 -4.03010368e-01\n",
      "  -1.48522162e+00 -3.57232666e+00  8.15678060e-01 -9.84944463e-01\n",
      "   1.03459492e-01  1.83338165e+00 -1.12823665e+00 -2.87627518e-01\n",
      "  -1.57491326e+00  1.08880281e+00 -4.39863294e-01  1.68359399e+00\n",
      "  -8.56321037e-01  4.26449537e+00  1.50298226e+00 -1.81527123e-01\n",
      "  -5.46820164e-01  1.01836586e+00 -2.69546390e-01  2.37474751e+00\n",
      "  -6.14425600e-01 -1.35919261e+00  2.67289698e-01 -8.25184286e-01\n",
      "  -1.15503240e+00 -2.56043464e-01  1.44545126e+00 -8.37069571e-01\n",
      "  -1.46039331e+00 -8.47409010e-01  8.59863043e-01 -6.39812648e-01\n",
      "  -1.53444242e+00  1.33847818e+01 -1.71901834e+00  1.44378734e+00\n",
      "  -5.58686733e-01  6.81798398e-01 -5.70229232e-01 -5.56373775e-01\n",
      "  -7.32696295e+00 -8.45580280e-01 -8.26798320e-01 -1.45383883e+00\n",
      "  -5.43201923e-01  1.19407928e+00  5.75353563e-01 -1.23397171e-01\n",
      "  -7.50254154e-01  1.29671793e+01 -1.64380705e+00  2.83374834e+00\n",
      "  -8.80738974e-01 -9.10166800e-02 -1.10252941e+00 -5.65145135e-01\n",
      "  -1.13209713e+00  1.06876385e+00 -7.93655992e-01 -7.23396361e-01\n",
      "  -6.93684936e-01 -6.75066173e-01 -3.99266183e-01 -8.81982446e-01\n",
      "  -8.65190029e-01  1.31673031e+01  3.17495167e-01  5.04398197e-02\n",
      "   2.13510919e+00 -1.90724492e-01 -7.93672085e+00 -1.05819598e-01\n",
      "  -4.91499156e-01 -1.22224525e-01 -1.73605883e+00  4.08874154e-01\n",
      "   1.27888763e+00 -5.43816745e-01 -9.19488311e-01  3.62603807e+00\n",
      "   2.60165334e+00 -6.95858181e-01 -2.73643047e-01 -2.05690518e-01\n",
      "   1.23997700e+00  1.49039626e-01 -6.73227906e-01 -2.04388690e+00\n",
      "  -9.77479815e-01 -5.00079691e-01 -1.81098986e+00 -7.17871904e-01\n",
      "  -2.71369457e-01  3.30023885e-01 -1.32081673e-01  1.69086397e+00\n",
      "  -8.81620109e-01 -8.09036613e-01 -2.15103126e+00 -4.50265944e-01\n",
      "  -7.97298193e-01 -2.84830704e-02 -6.85964897e-03 -5.92165709e-01\n",
      "   1.70727482e+01 -9.76350188e-01 -1.81091074e-02 -4.20500576e-01\n",
      "  -5.02535164e-01  3.11723685e+00  7.87247241e-01  4.88685369e-01\n",
      "  -1.96096194e+00 -1.18596387e+00 -3.19539011e-01  3.89971942e-01\n",
      "  -9.87079620e-01 -2.66298264e-01 -3.64398509e-01 -6.13334537e-01\n",
      "  -1.10158443e+00 -1.15246212e+00  8.10943484e-01 -1.32434261e+00\n",
      "  -1.05304897e-01 -6.32652998e-01 -8.33124995e-01 -8.83874178e-01\n",
      "  -9.06642079e-01 -7.38333583e-01 -1.68615270e+00  1.66711545e+00\n",
      "  -3.00922543e-01  1.78743494e+00 -1.03938103e+00 -7.06133991e-02\n",
      "   2.93151438e-01 -1.09412014e+00 -4.99033928e-01 -2.00295973e+00\n",
      "  -8.06788862e-01 -2.05022618e-02 -2.51775384e-01 -1.37518033e-01\n",
      "  -1.44700241e+00 -7.73253083e-01  7.31187582e-01 -1.19187683e-02\n",
      "   4.78242934e-01 -1.18170333e+00 -1.40461817e-01 -2.87655973e+00\n",
      "  -3.91619354e-01  2.39043459e-01 -2.56845450e+00 -7.58731067e-02\n",
      "  -1.66335237e+00 -1.05585110e+00  5.20417094e-01 -5.80133855e-01\n",
      "  -3.58899355e-01 -3.91241163e-02 -1.90692389e+00 -1.58233845e+00\n",
      "   1.00393653e+00 -1.06332086e-01 -4.71678495e-01  4.78260100e-01\n",
      "  -1.08520913e+00  7.31044471e-01  9.34272408e-01 -8.77313852e-01\n",
      "  -4.25412464e+00 -6.74396098e-01  5.88272065e-02  3.97834688e-01\n",
      "  -3.66082452e-02 -3.13663578e+00 -6.06191218e-01 -1.94071889e-01\n",
      "  -1.28254890e+00 -8.37986097e-02 -6.26108795e-02 -1.10372794e+00\n",
      "  -3.83212775e-01 -5.89171708e-01 -3.08241308e-01  1.29315305e+00\n",
      "   8.56692493e-01 -3.47619176e-01 -3.92990023e-01  1.76136404e-01\n",
      "   1.21716686e-01 -4.14789820e+00 -1.64967155e+00 -8.52699161e-01\n",
      "  -2.85781950e-01  1.77012384e+00  1.43104708e+00 -6.91426611e+00\n",
      "  -9.27879632e-01 -8.27341557e-01 -1.81780010e-02  1.29519629e+00\n",
      "  -1.00404322e+00 -3.63739014e-01 -6.23312712e-01  1.72911131e+00\n",
      "  -2.64437497e-01  9.00015891e-01 -5.22595358e+00 -7.05498219e-01\n",
      "  -3.04769427e-01 -1.99020892e-01  1.05147101e-02 -4.06350732e-01\n",
      "   1.66740561e+00 -6.26335561e-01 -9.01186824e-01 -6.24651372e-01\n",
      "  -7.19846427e-01 -5.74308395e-01 -1.43646860e+00 -1.36582196e+00\n",
      "  -5.08509159e-01 -7.88444877e-01 -6.25944436e-01 -9.76442993e-02\n",
      "  -7.59061754e-01 -4.92316306e-01 -4.06391096e+00 -1.28637862e+00\n",
      "   1.51220822e+00 -3.93982857e-01 -3.42396736e-01  3.35500896e-01\n",
      "  -2.35832646e-01 -3.31968397e-01 -1.39151239e+00 -1.00228906e+00\n",
      "   2.08685231e+00  3.78342718e-01 -9.06624913e-01 -8.72424412e+00\n",
      "  -7.25155398e-02 -1.57936141e-01 -2.80038047e+00 -2.15919822e-01\n",
      "  -1.04089177e+00 -1.75488997e+00 -2.46109262e-01 -1.76071823e-01\n",
      "  -1.06295824e+01 -6.25612199e-01 -7.67826319e-01  1.47185969e+00]]\n"
     ]
    }
   ],
   "source": [
    "import tensorflow as tf\n",
    "from tensorflow.keras.models import Model\n",
    "import numpy as np\n",
    "layer_output = model.get_layer(index=8).output\n",
    "prelu_output_model = Model(inputs=model.input, outputs=layer_output)\n",
    "random_index = np.random.randint(0, len(x_test))\n",
    "sample_image = x_test[random_index]\n",
    "sample_image = np.expand_dims(sample_image, axis=0)\n",
    "intermediate_output = prelu_output_model.predict(sample_image)\n",
    "print(\"Intermediate representation after applying Parametric ReLU:\")\n",
    "print(intermediate_output)"
   ]
  },
  {
   "cell_type": "code",
   "execution_count": 56,
   "id": "5bdddfff",
   "metadata": {},
   "outputs": [
    {
     "data": {
      "text/plain": [
       "-0.32810825"
      ]
     },
     "execution_count": 56,
     "metadata": {},
     "output_type": "execute_result"
    }
   ],
   "source": [
    "np.mean(intermediate_output[0])"
   ]
  },
  {
   "cell_type": "code",
   "execution_count": 2,
   "id": "db54c611",
   "metadata": {},
   "outputs": [
    {
     "name": "stderr",
     "output_type": "stream",
     "text": [
      "C:\\Users\\shaif\\anaconda3\\envs\\tens\\lib\\site-packages\\scipy\\__init__.py:146: UserWarning: A NumPy version >=1.16.5 and <1.23.0 is required for this version of SciPy (detected version 1.24.3\n",
      "  warnings.warn(f\"A NumPy version >={np_minversion} and <{np_maxversion}\"\n"
     ]
    },
    {
     "name": "stdout",
     "output_type": "stream",
     "text": [
      "Model: \"model\"\n",
      "_________________________________________________________________\n",
      " Layer (type)                Output Shape              Param #   \n",
      "=================================================================\n",
      " input_1 (InputLayer)        [(None, 32, 32, 3)]       0         \n",
      "                                                                 \n",
      " tf.math.truediv (TFOpLambda  (None, 32, 32, 3)        0         \n",
      " )                                                               \n",
      "                                                                 \n",
      " tf.math.subtract (TFOpLambd  (None, 32, 32, 3)        0         \n",
      " a)                                                              \n",
      "                                                                 \n",
      " conv2d (Conv2D)             (None, 30, 30, 32)        896       \n",
      "                                                                 \n",
      " max_pooling2d (MaxPooling2D  (None, 15, 15, 32)       0         \n",
      " )                                                               \n",
      "                                                                 \n",
      " flatten (Flatten)           (None, 7200)              0         \n",
      "                                                                 \n",
      " dropout (Dropout)           (None, 7200)              0         \n",
      "                                                                 \n",
      " dense (Dense)               (None, 1000)              7201000   \n",
      "                                                                 \n",
      " dense_1 (Dense)             (None, 500)               500500    \n",
      "                                                                 \n",
      " dense_2 (Dense)             (None, 100)               50100     \n",
      "                                                                 \n",
      " dense_3 (Dense)             (None, 10)                1010      \n",
      "                                                                 \n",
      "=================================================================\n",
      "Total params: 7,753,506\n",
      "Trainable params: 7,753,506\n",
      "Non-trainable params: 0\n",
      "_________________________________________________________________\n"
     ]
    }
   ],
   "source": [
    "import tensorflow as tf\n",
    "def create_model(dropout_rate=0.5):\n",
    "    inputs = tf.keras.Input(shape=(32, 32, 3))\n",
    "    x = tf.keras.applications.mobilenet_v2.preprocess_input(inputs)\n",
    "    x = tf.keras.layers.Conv2D(filters=32, kernel_size=(3, 3), activation=\"relu\")(x)\n",
    "    x = tf.keras.layers.MaxPooling2D(pool_size=(2, 2))(x)\n",
    "    x = tf.keras.layers.Flatten()(x)\n",
    "    x = tf.keras.layers.Dropout(dropout_rate)(x)\n",
    "    x = tf.keras.layers.Dense(1000, activation=\"relu\")(x)\n",
    "    #x = tf.keras.layers.Dropout(dropout_rate)(x)\n",
    "    x = tf.keras.layers.Dense(500, activation=\"relu\")(x)\n",
    "    #x = tf.keras.layers.Dropout(dropout_rate)(x)\n",
    "    x = tf.keras.layers.Dense(100, activation=\"relu\")(x)\n",
    "    outputs = tf.keras.layers.Dense(10, activation=\"softmax\")(x)\n",
    "    model = tf.keras.Model(inputs=inputs, outputs=outputs)\n",
    "    model.compile(optimizer=\"adam\", loss=\"sparse_categorical_crossentropy\", metrics=[\"accuracy\"])\n",
    "    return model\n",
    "\n",
    "m = create_model(0.5)\n",
    "m.summary()"
   ]
  },
  {
   "cell_type": "code",
   "execution_count": null,
   "id": "4fd7ab32",
   "metadata": {},
   "outputs": [],
   "source": []
  },
  {
   "cell_type": "code",
   "execution_count": null,
   "id": "74e39c18",
   "metadata": {},
   "outputs": [],
   "source": []
  },
  {
   "cell_type": "code",
   "execution_count": null,
   "id": "1785de8d",
   "metadata": {},
   "outputs": [],
   "source": []
  },
  {
   "cell_type": "code",
   "execution_count": null,
   "id": "339a4f29",
   "metadata": {},
   "outputs": [],
   "source": []
  },
  {
   "cell_type": "code",
   "execution_count": null,
   "id": "507591fb",
   "metadata": {},
   "outputs": [],
   "source": []
  },
  {
   "cell_type": "code",
   "execution_count": null,
   "id": "eda43657",
   "metadata": {},
   "outputs": [],
   "source": []
  }
 ],
 "metadata": {
  "kernelspec": {
   "display_name": "Python 3 (ipykernel)",
   "language": "python",
   "name": "python3"
  },
  "language_info": {
   "codemirror_mode": {
    "name": "ipython",
    "version": 3
   },
   "file_extension": ".py",
   "mimetype": "text/x-python",
   "name": "python",
   "nbconvert_exporter": "python",
   "pygments_lexer": "ipython3",
   "version": "3.8.18"
  }
 },
 "nbformat": 4,
 "nbformat_minor": 5
}
