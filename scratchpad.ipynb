{
 "cells": [
  {
   "cell_type": "code",
   "execution_count": 19,
   "id": "58c3787a",
   "metadata": {},
   "outputs": [],
   "source": [
    "# Load CIFAR-10 dataset\n",
    "import tensorflow as tf\n",
    "(x_train, y_train), (x_test, y_test) = tf.keras.datasets.cifar10.load_data()"
   ]
  },
  {
   "cell_type": "code",
   "execution_count": 20,
   "id": "55e446b1",
   "metadata": {},
   "outputs": [],
   "source": [
    "# Assume class 0 is the minority class\n",
    "import numpy as np\n",
    "minority_class_label = 0\n",
    "minority_indices_train = np.where(y_train == minority_class_label)[0]\n",
    "num_indices_to_keep=len(minority_indices_train) // 2\n",
    "indices_to_keep_train = minority_indices_train[:num_indices_to_keep]\n",
    "# Remove indices corresponding to minority class label from y_train\n",
    "y_train_filtered = np.delete(y_train, indices_to_keep_train, axis=0)\n",
    "x_train_filtered = np.delete(x_train, indices_to_keep_train, axis=0)"
   ]
  },
  {
   "cell_type": "code",
   "execution_count": 21,
   "id": "4ef4a682",
   "metadata": {},
   "outputs": [],
   "source": [
    "minority_indices_train = np.where(y_test == minority_class_label)[0]\n",
    "num_indices_to_keep=len(minority_indices_train) // 2\n",
    "indices_to_keep_train = minority_indices_train[:num_indices_to_keep]\n",
    "# Remove indices corresponding to minority class label from y_train\n",
    "y_train_filtered = np.delete(y_test, indices_to_keep_train, axis=0)\n",
    "x_train_filtered = np.delete(x_test, indices_to_keep_train, axis=0)"
   ]
  },
  {
   "cell_type": "code",
   "execution_count": 9,
   "id": "af3d9545",
   "metadata": {},
   "outputs": [
    {
     "data": {
      "text/plain": [
       "array([   29,    30,    35, ..., 25070, 25082, 25083], dtype=int64)"
      ]
     },
     "execution_count": 9,
     "metadata": {},
     "output_type": "execute_result"
    }
   ],
   "source": []
  },
  {
   "cell_type": "code",
   "execution_count": 10,
   "id": "c24dd7ad",
   "metadata": {},
   "outputs": [],
   "source": []
  },
  {
   "cell_type": "code",
   "execution_count": 12,
   "id": "8b1125e8",
   "metadata": {},
   "outputs": [],
   "source": []
  },
  {
   "cell_type": "code",
   "execution_count": 13,
   "id": "52a7c096",
   "metadata": {},
   "outputs": [
    {
     "data": {
      "text/plain": [
       "47500"
      ]
     },
     "execution_count": 13,
     "metadata": {},
     "output_type": "execute_result"
    }
   ],
   "source": [
    "len(x_train_filtered)"
   ]
  },
  {
   "cell_type": "code",
   "execution_count": null,
   "id": "eda43657",
   "metadata": {},
   "outputs": [],
   "source": []
  }
 ],
 "metadata": {
  "kernelspec": {
   "display_name": "Python 3 (ipykernel)",
   "language": "python",
   "name": "python3"
  },
  "language_info": {
   "codemirror_mode": {
    "name": "ipython",
    "version": 3
   },
   "file_extension": ".py",
   "mimetype": "text/x-python",
   "name": "python",
   "nbconvert_exporter": "python",
   "pygments_lexer": "ipython3",
   "version": "3.8.18"
  }
 },
 "nbformat": 4,
 "nbformat_minor": 5
}
