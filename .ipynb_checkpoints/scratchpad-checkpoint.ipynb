{
 "cells": [
  {
   "cell_type": "code",
   "execution_count": 19,
   "id": "58c3787a",
   "metadata": {},
   "outputs": [],
   "source": [
    "# Load CIFAR-10 dataset\n",
    "import tensorflow as tf\n",
    "(x_train, y_train), (x_test, y_test) = tf.keras.datasets.cifar10.load_data()"
   ]
  },
  {
   "cell_type": "code",
   "execution_count": 20,
   "id": "55e446b1",
   "metadata": {},
   "outputs": [],
   "source": [
    "# Assume class 0 is the minority class\n",
    "import numpy as np\n",
    "minority_class_label = 0\n",
    "minority_indices_train = np.where(y_train == minority_class_label)[0]\n",
    "num_indices_to_keep=len(minority_indices_train) // 2\n",
    "indices_to_keep_train = minority_indices_train[:num_indices_to_keep]\n",
    "# Remove indices corresponding to minority class label from y_train\n",
    "y_train_filtered = np.delete(y_train, indices_to_keep_train, axis=0)\n",
    "x_train_filtered = np.delete(x_train, indices_to_keep_train, axis=0)"
   ]
  },
  {
   "cell_type": "code",
   "execution_count": 21,
   "id": "4ef4a682",
   "metadata": {},
   "outputs": [],
   "source": [
    "minority_indices_train = np.where(y_test == minority_class_label)[0]\n",
    "num_indices_to_keep=len(minority_indices_train) // 2\n",
    "indices_to_keep_train = minority_indices_train[:num_indices_to_keep]\n",
    "# Remove indices corresponding to minority class label from y_train\n",
    "y_train_filtered = np.delete(y_test, indices_to_keep_train, axis=0)\n",
    "x_train_filtered = np.delete(x_test, indices_to_keep_train, axis=0)"
   ]
  },
  {
   "cell_type": "code",
   "execution_count": 9,
   "id": "af3d9545",
   "metadata": {},
   "outputs": [
    {
     "data": {
      "text/plain": [
       "array([   29,    30,    35, ..., 25070, 25082, 25083], dtype=int64)"
      ]
     },
     "execution_count": 9,
     "metadata": {},
     "output_type": "execute_result"
    }
   ],
   "source": []
  },
  {
   "cell_type": "code",
   "execution_count": null,
   "id": "c24dd7ad",
   "metadata": {},
   "outputs": [
    {
     "name": "stdout",
     "output_type": "stream",
     "text": [
      "Epoch 1/2\n",
      "1563/1563 [==============================] - 10s 6ms/step - loss: 1.3881 - accuracy: 0.5088 - f1_score: 4.5531 - val_loss: 1.1457 - val_accuracy: 0.5977 - val_f1_score: 4.6163\n",
      "Epoch 2/2\n",
      "1554/1563 [============================>.] - ETA: 0s - loss: 1.1229 - accuracy: 0.6042 - f1_score: 4.5110"
     ]
    }
   ],
   "source": [
    "import tensorflow as tf\n",
    "\n",
    "# Define F1 score metric\n",
    "def f1_score(y_true, y_pred):\n",
    "    y_true = tf.cast(y_true, tf.float32)\n",
    "    y_pred = tf.cast(tf.argmax(y_pred, axis=-1), tf.float32)\n",
    "    tp = tf.reduce_sum(y_true * y_pred)\n",
    "    fp = tf.reduce_sum((1 - y_true) * y_pred)\n",
    "    fn = tf.reduce_sum(y_true * (1 - y_pred))\n",
    "    precision = tp / (tp + fp + tf.keras.backend.epsilon())\n",
    "    recall = tp / (tp + fn + tf.keras.backend.epsilon())\n",
    "    f1_score = 2 * precision * recall / (precision + recall + tf.keras.backend.epsilon())\n",
    "    return f1_score\n",
    "\n",
    "# Load CIFAR-10 dataset\n",
    "(x_train, y_train), (x_test, y_test) = tf.keras.datasets.cifar10.load_data()\n",
    "\n",
    "# Preprocess input data\n",
    "x_train = tf.keras.applications.mobilenet_v2.preprocess_input(x_train)\n",
    "x_test = tf.keras.applications.mobilenet_v2.preprocess_input(x_test)\n",
    "\n",
    "# Define the model architecture\n",
    "inputs = tf.keras.Input(shape=(32, 32, 3))\n",
    "x = tf.keras.layers.Conv2D(filters=32, kernel_size=(3, 3), activation=\"relu\")(inputs)\n",
    "x = tf.keras.layers.MaxPooling2D(pool_size=(2, 2))(x)\n",
    "x = tf.keras.layers.Dropout(.5)(x)\n",
    "x = tf.keras.layers.Flatten()(x)\n",
    "x = tf.keras.layers.Dense(128, activation=\"relu\")(x)\n",
    "outputs = tf.keras.layers.Dense(10, activation=\"softmax\")(x)\n",
    "\n",
    "# Create the model\n",
    "model = tf.keras.Model(inputs=inputs, outputs=outputs)\n",
    "\n",
    "# Compile the model with F1 score metric\n",
    "model.compile(optimizer=\"adam\",\n",
    "              loss=\"sparse_categorical_crossentropy\",\n",
    "              metrics=[\"accuracy\", f1_score])\n",
    "\n",
    "# Train the model\n",
    "history = model.fit(x_train, y_train, epochs=2, batch_size=32, validation_data=(x_test, y_test))"
   ]
  },
  {
   "cell_type": "code",
   "execution_count": null,
   "id": "8b1125e8",
   "metadata": {},
   "outputs": [],
   "source": [
    "v = history.history['val_f1_score']"
   ]
  },
  {
   "cell_type": "code",
   "execution_count": 13,
   "id": "52a7c096",
   "metadata": {},
   "outputs": [
    {
     "data": {
      "text/plain": [
       "47500"
      ]
     },
     "execution_count": 13,
     "metadata": {},
     "output_type": "execute_result"
    }
   ],
   "source": []
  },
  {
   "cell_type": "code",
   "execution_count": 4,
   "id": "0b42b849",
   "metadata": {},
   "outputs": [],
   "source": [
    "import tensorflow as tf\n",
    "(x_train, y_train), (x_test, y_test) = tf.keras.datasets.cifar10.load_data()\n",
    "\n",
    "def create_model_with_parametric_relu(dropout_rate=0.5, alpha_values=[3.0, 1.0]):\n",
    "    inputs = tf.keras.Input(shape=(32, 32, 3))\n",
    "    x = tf.keras.applications.mobilenet_v2.preprocess_input(inputs)\n",
    "    x = tf.keras.layers.Conv2D(filters=32, kernel_size=(3, 3), activation=\"relu\")(x)\n",
    "    x = tf.keras.layers.MaxPooling2D(pool_size=(2, 2))(x)\n",
    "    x = tf.keras.layers.Flatten()(x)\n",
    "    x = tf.keras.layers.Dropout(dropout_rate)(x)\n",
    "    x = tf.keras.layers.Dense(1000)(x)\n",
    "    x = tf.keras.layers.Dense(500)(x)\n",
    "    x = tf.keras.layers.Dense(100)(x)\n",
    "    outputs = tf.keras.layers.Dense(10, activation=\"softmax\")(x)\n",
    "    model = tf.keras.Model(inputs=inputs, outputs=outputs)\n",
    "    model.compile(optimizer=\"adam\", loss=\"sparse_categorical_crossentropy\", metrics=[\"accuracy\"])\n",
    "    return model\n",
    "\n",
    "model = create_model_with_parametric_relu()\n",
    "model.fit(x_train, y_train, epochs=2, batch_size=16, validation_data=(x_test, y_test))"
   ]
  },
  {
   "cell_type": "code",
   "execution_count": 11,
   "id": "85639f33",
   "metadata": {},
   "outputs": [
    {
     "name": "stdout",
     "output_type": "stream",
     "text": [
      "WARNING:tensorflow:5 out of the last 5 calls to <function Model.make_predict_function.<locals>.predict_function at 0x000002081DABEA60> triggered tf.function retracing. Tracing is expensive and the excessive number of tracings could be due to (1) creating @tf.function repeatedly in a loop, (2) passing tensors with different shapes, (3) passing Python objects instead of tensors. For (1), please define your @tf.function outside of the loop. For (2), @tf.function has experimental_relax_shapes=True option that relaxes argument shapes that can avoid unnecessary retracing. For (3), please refer to https://www.tensorflow.org/guide/function#controlling_retracing and https://www.tensorflow.org/api_docs/python/tf/function for  more details.\n",
      "Intermediate representation after applying Parametric ReLU:\n",
      "[[ 7.471838    2.894681   11.839777    4.3978      4.1912737   7.8298693\n",
      "   3.8053007   9.983092    6.066289    4.392357    5.1169786   5.922907\n",
      "   7.863308    7.5351577   3.83321     5.216571    2.5950177   7.0571747\n",
      "   6.0337543  13.625657    3.604491    3.9609802   3.2125125   3.8912182\n",
      "   2.3890526   2.2365637   7.2663684   2.9052198   3.118852    5.8001885\n",
      "   2.9740856   7.6149607   6.658684    8.02647     8.172183    4.4848676\n",
      "   3.246689    1.5856959   7.091751    4.765381    2.3080964   4.7794366\n",
      "   2.6404135   1.2136489   6.8690476   3.4498656   0.82706696  6.2537966\n",
      "   3.63846     3.8361552   3.899158    5.3059154   5.1230493   5.8145094\n",
      "   1.1778444   8.437596    5.1824417   3.0650914   3.4869392   6.217074\n",
      "  13.418652   14.567867    4.434207    5.335065  ]]\n"
     ]
    }
   ],
   "source": [
    "\n",
    "# Get intermediate representation after applying Parametric ReLU\n",
    "layer_output = model.get_layer(index=2).output\n",
    "prelu_output_model = Model(inputs=model.input, outputs=layer_output)\n",
    "\n",
    "# Choose a random image from the test set\n",
    "random_index = np.random.randint(0, len(x_test))\n",
    "sample_image = x_test[random_index]\n",
    "\n",
    "# Expand dimensions to match the input shape of the model\n",
    "sample_image = np.expand_dims(sample_image, axis=0)\n",
    "\n",
    "# Get the intermediate representation for the chosen image\n",
    "intermediate_output = prelu_output_model.predict(sample_image)\n",
    "\n",
    "# Print the intermediate representation\n",
    "print(\"Intermediate representation after applying Parametric ReLU:\")\n",
    "print(intermediate_output)\n"
   ]
  },
  {
   "cell_type": "code",
   "execution_count": null,
   "id": "5bdddfff",
   "metadata": {},
   "outputs": [],
   "source": []
  },
  {
   "cell_type": "code",
   "execution_count": null,
   "id": "db54c611",
   "metadata": {},
   "outputs": [],
   "source": []
  },
  {
   "cell_type": "code",
   "execution_count": null,
   "id": "4fd7ab32",
   "metadata": {},
   "outputs": [],
   "source": []
  },
  {
   "cell_type": "code",
   "execution_count": null,
   "id": "eda43657",
   "metadata": {},
   "outputs": [],
   "source": []
  }
 ],
 "metadata": {
  "kernelspec": {
   "display_name": "Python 3 (ipykernel)",
   "language": "python",
   "name": "python3"
  },
  "language_info": {
   "codemirror_mode": {
    "name": "ipython",
    "version": 3
   },
   "file_extension": ".py",
   "mimetype": "text/x-python",
   "name": "python",
   "nbconvert_exporter": "python",
   "pygments_lexer": "ipython3",
   "version": "3.8.18"
  }
 },
 "nbformat": 4,
 "nbformat_minor": 5
}
